{
 "cells": [
  {
   "cell_type": "code",
   "execution_count": 8,
   "metadata": {
    "collapsed": true
   },
   "outputs": [
    {
     "name": "stdout",
     "output_type": "stream",
     "text": [
      "----------- ts\n2012-01-01    0.199573\n2012-01-02    0.750048\n2012-01-03    0.372520\n2012-01-04    0.545767\n2012-01-05    0.234545\n2012-01-06    0.273191\n2012-01-07    0.855038\n2012-01-08    0.512052\n2012-01-09    0.942662\n2012-01-10    0.063221\n2012-01-11    0.134595\n2012-01-12    0.756382\n2012-01-13    0.329661\n2012-01-14    0.761395\n2012-01-15    0.624276\n2012-01-16    0.664974\n2012-01-17    0.840570\n2012-01-18    0.918552\n2012-01-19    0.842879\n2012-01-20    0.275443\n2012-01-21    0.494347\n2012-01-22    0.494352\n2012-01-23    0.476316\n2012-01-24    0.720720\n2012-01-25    0.548761\n2012-01-26    0.410354\n2012-01-27    0.181684\n2012-01-28    0.878384\n2012-01-29    0.603268\n2012-01-30    0.447686\n                ...   \n2014-08-28    0.682220\n2014-08-29    0.751952\n2014-08-30    0.437983\n2014-08-31    0.204245\n2014-09-01    0.921559\n2014-09-02    0.559190\n2014-09-03    0.626674\n2014-09-04    0.262553\n2014-09-05    0.493437\n2014-09-06    0.084985\n2014-09-07    0.931198\n2014-09-08    0.437662\n2014-09-09    0.651914\n2014-09-10    0.251321\n2014-09-11    0.061482\n2014-09-12    0.673251\n2014-09-13    0.480301\n2014-09-14    0.184143\n2014-09-15    0.200054\n2014-09-16    0.825047\n2014-09-17    0.828340\n2014-09-18    0.785034\n2014-09-19    0.815085\n2014-09-20    0.937302\n2014-09-21    0.656679\n2014-09-22    0.096891\n2014-09-23    0.836341\n2014-09-24    0.129751\n2014-09-25    0.764097\n2014-09-26    0.037376\nFreq: D, Length: 1000, dtype: float64\n"
     ]
    },
    {
     "data": {
      "text/plain": [
       "<matplotlib.legend.Legend at 0x2cd566f58d0>"
      ]
     },
     "execution_count": 8,
     "metadata": {},
     "output_type": "execute_result"
    }
   ],
   "source": [
    "import pandas as pd\n",
    "import numpy as np\n",
    "import numpy.random as rd\n",
    "import matplotlib.pyplot as plt\n",
    "from matplotlib import *\n",
    "from IPython import display\n",
    "import random\n",
    "\n",
    "ts= pd.Series(np.random.rand(1000),index=pd.date_range('1/1/2012',periods=1000))\n",
    "print('----------- ts')\n",
    "print(ts)\n",
    "ts=ts.cumsum()\n",
    "\n",
    "ts.plot()\n",
    "\n",
    "df=pd.DataFrame(np.random.randn(1000,4),index=ts.index,columns=['A','B','C','D'])\n",
    "df=df.cumsum()\n",
    "\n",
    "plt.figure()\n",
    "df.plot()\n",
    "plt.legend(loc='best')\n"
   ]
  },
  {
   "cell_type": "code",
   "execution_count": null,
   "metadata": {},
   "outputs": [],
   "source": []
  }
 ],
 "metadata": {
  "kernelspec": {
   "display_name": "Python 2",
   "language": "python",
   "name": "python2"
  },
  "language_info": {
   "codemirror_mode": {
    "name": "ipython",
    "version": 2
   },
   "file_extension": ".py",
   "mimetype": "text/x-python",
   "name": "python",
   "nbconvert_exporter": "python",
   "pygments_lexer": "ipython2",
   "version": "2.7.6"
  }
 },
 "nbformat": 4,
 "nbformat_minor": 0
}
